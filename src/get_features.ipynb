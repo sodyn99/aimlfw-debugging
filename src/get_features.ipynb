{
 "cells": [
  {
   "cell_type": "code",
   "execution_count": null,
   "metadata": {},
   "outputs": [],
   "source": [
    "from featurestoresdk.feature_store_sdk import FeatureStoreSdk\n",
    "import pandas as pd\n",
    "\n",
    "#--------------------------------------------------------------------------\n",
    "#----------------------------- Config -------------------------------------\n",
    "#--------------------------------------------------------------------------\n",
    "TRAINING_JOB_NAME = \"uavtest\" # Please replace with the name you want to see\n",
    "FEATURES = ['x', 'y', 'z']\n",
    "\n",
    "#--------------------------------------------------------------------------\n",
    "#----------------------------- Main ---------------------------------------\n",
    "#--------------------------------------------------------------------------\n",
    "\n",
    "fs_sdk = FeatureStoreSdk()\n",
    "\n",
    "print(\"\\n\\033[92mFeature Store Configuration:\\033[0m\")\n",
    "print(\"Database Name:\", fs_sdk.feature_store_db_name)\n",
    "print(\"IP Address:\", fs_sdk.feature_store_ip)\n",
    "print(\"Port:\", fs_sdk.feature_store_port)\n",
    "print(\"Username:\", fs_sdk.feature_store_username)\n",
    "print(\"Password:\", fs_sdk.feature_store_password)\n",
    "\n",
    "try:\n",
    "    df = fs_sdk.get_features(TRAINING_JOB_NAME, [i for i in FEATURES])\n",
    "    for i in FEATURES:\n",
    "        df[i] = pd.to_numeric(df[i], errors='coerce')\n",
    "    print(f\"\\033[92mData:\\033[0m\")\n",
    "    print(df[(df[FEATURES] != 0).any(axis=1)])\n",
    "    print(f\"\\033[92mData types:\\033[0m\\n{df.dtypes}\\n\")\n",
    "except Exception as e:\n",
    "    print(f\"\\033[91mError accessing data: {str(e)}\\033[0m\")"
   ]
  }
 ],
 "metadata": {
  "kernelspec": {
   "display_name": "aiml",
   "language": "python",
   "name": "python3"
  },
  "language_info": {
   "codemirror_mode": {
    "name": "ipython",
    "version": 3
   },
   "file_extension": ".py",
   "mimetype": "text/x-python",
   "name": "python",
   "nbconvert_exporter": "python",
   "pygments_lexer": "ipython3",
   "version": "3.8.19"
  }
 },
 "nbformat": 4,
 "nbformat_minor": 2
}

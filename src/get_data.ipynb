{
 "cells": [
  {
   "cell_type": "code",
   "execution_count": 4,
   "metadata": {},
   "outputs": [],
   "source": [
    "import pandas as pd\n",
    "import os\n",
    "from influxdb_client import InfluxDBClient\n",
    "# from featurestoresdk.feature_store_sdk import FeatureStoreSdk\n",
    "from sodyn99.feature_store_sdk import FeatureStoreSdk\n",
    "\n",
    "INFLUXDB_HOST = os.getenv('INFLUXDB_HOST')\n",
    "INFLUXDB_PORT = os.getenv('INFLUXDB_PORT')\n",
    "INFLUXDB_TOKEN = os.getenv('INFLUXDB_TOKEN')\n",
    "INFLUXDB_ORG = \"primary\"\n",
    "INFLUXDB_BUCKET = \"UAVData\"\n",
    "\n",
    "TRAINING_JOB_NAME = \"uavtest\"\n",
    "FEATURE_NAME = \"x\""
   ]
  },
  {
   "cell_type": "code",
   "execution_count": 5,
   "metadata": {},
   "outputs": [
    {
     "name": "stdout",
     "output_type": "stream",
     "text": [
      "\u001b[92mData from Cassandra:\u001b[0m\n",
      "                           x\n",
      "0       -2.7278003677876597\n",
      "1       -2.7044567059621523\n",
      "2       -2.6829307181061064\n",
      "3       -2.6607717007217073\n",
      "4       -2.6363856183323264\n",
      "...                     ...\n",
      "249995  0.20020159056237843\n",
      "249996  0.19776726125967284\n",
      "249997  0.19755735498886612\n",
      "249998   0.1966440326878903\n",
      "249999  0.19841127818046236\n",
      "\n",
      "[250000 rows x 1 columns]\n"
     ]
    }
   ],
   "source": [
    "fs_sdk = FeatureStoreSdk()\n",
    "\n",
    "sdk = fs_sdk.get_features(TRAINING_JOB_NAME, [FEATURE_NAME])\n",
    "\n",
    "print(\"\\033[92mData from Cassandra:\\033[0m\\n\", sdk)"
   ]
  },
  {
   "cell_type": "code",
   "execution_count": 6,
   "metadata": {},
   "outputs": [
    {
     "name": "stdout",
     "output_type": "stream",
     "text": [
      "\u001b[92mData from InfluxDB:\u001b[0m\n",
      "                x\n",
      "0      -2.727800\n",
      "1      -2.704457\n",
      "2      -2.682931\n",
      "3      -2.660772\n",
      "4      -2.636386\n",
      "...          ...\n",
      "249995  0.200202\n",
      "249996  0.197767\n",
      "249997  0.197557\n",
      "249998  0.196644\n",
      "249999  0.198411\n",
      "\n",
      "[250000 rows x 1 columns]\n"
     ]
    }
   ],
   "source": [
    "client = InfluxDBClient(url=f\"http://{INFLUXDB_HOST}:{INFLUXDB_PORT}\", token=INFLUXDB_TOKEN, org=INFLUXDB_ORG)\n",
    "query_api = client.query_api()\n",
    "query = f'''\n",
    "from(bucket:\"{INFLUXDB_BUCKET}\") |> range(start: -1000d, stop: now()) |> filter(fn: (r) => r._measurement == \"liveCell\") |> pivot(rowKey:[\"_time\"], columnKey: [\"_field\"], valueColumn: \"_value\")\n",
    "'''\n",
    "result = query_api.query(query=query)\n",
    "\n",
    "t = []\n",
    "\n",
    "if not result:\n",
    "    print(\"\\033[91mNo data found.\\033[0m\")\n",
    "else:\n",
    "    for table in result:\n",
    "        for record in table.records:\n",
    "            t.append(record[FEATURE_NAME])\n",
    "client.close()\n",
    "\n",
    "df = pd.DataFrame(t, columns=[FEATURE_NAME])\n",
    "print(\"\\033[92mData from InfluxDB:\\033[0m\\n\", df)"
   ]
  }
 ],
 "metadata": {
  "kernelspec": {
   "display_name": "aimlfw",
   "language": "python",
   "name": "python3"
  },
  "language_info": {
   "codemirror_mode": {
    "name": "ipython",
    "version": 3
   },
   "file_extension": ".py",
   "mimetype": "text/x-python",
   "name": "python",
   "nbconvert_exporter": "python",
   "pygments_lexer": "ipython3",
   "version": "3.8.19"
  }
 },
 "nbformat": 4,
 "nbformat_minor": 2
}

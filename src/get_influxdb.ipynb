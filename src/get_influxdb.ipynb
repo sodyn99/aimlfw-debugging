{
 "cells": [
  {
   "cell_type": "code",
   "execution_count": null,
   "metadata": {},
   "outputs": [],
   "source": [
    "from featurestoresdk.feature_store_sdk import FeatureStoreSdk\n",
    "from influxdb_client import InfluxDBClient\n",
    "import os\n",
    "\n",
    "INFLUXDB_HOST = os.getenv('INFLUXDB_HOST')\n",
    "INFLUXDB_PORT = os.getenv('INFLUXDB_PORT')\n",
    "\n",
    "INFLUXDB_TOKEN = os.getenv('INFLUXDB_TOKEN')\n",
    "INFLUXDB_ORG = os.getenv('INFLUXDB_ORG', 'primary')\n",
    "\n",
    "bucket_name = \"UEData\" # Please replace with the name you want to see\n",
    "\n",
    "fs_sdk = FeatureStoreSdk()\n",
    "\n",
    "def debug_influxdb(fs_sdk):\n",
    "    try:\n",
    "        client = InfluxDBClient(url=f\"http://{INFLUXDB_HOST}:{INFLUXDB_PORT}\",\n",
    "                                token=INFLUXDB_TOKEN,\n",
    "                                org=INFLUXDB_ORG)\n",
    "\n",
    "        query_api = client.query_api()\n",
    "\n",
    "        buckets_api = client.buckets_api()\n",
    "        buckets = buckets_api.find_buckets().buckets\n",
    "        print(\"Buckets:\")\n",
    "        for bucket in buckets:\n",
    "            print(bucket.name)\n",
    "\n",
    "        query = f'from(bucket:\"{bucket_name}\") |> range(start: -100d, stop: now()) |> filter(fn: (r) => r._measurement == \"liveCell\") |> pivot(rowKey:[\"_time\"], columnKey: [\"_field\"], valueColumn: \"_value\")'\n",
    "        result = query_api.query(query=query)\n",
    "\n",
    "        print(f\"\\nSample data from {bucket_name}:\")\n",
    "\n",
    "        if not result:\n",
    "            print(\"\\033[91mNo data found.\\033[0m\")\n",
    "        else:\n",
    "            for table in result:\n",
    "                for record in table.records:\n",
    "                    print(record)\n",
    "\n",
    "        client.close()\n",
    "    except Exception as e:\n",
    "        print(f\"\\033[91mInfluxDB Debug Error: {str(e)}\\033[0m\")\n",
    "\n",
    "debug_influxdb(fs_sdk)"
   ]
  }
 ],
 "metadata": {
  "kernelspec": {
   "display_name": "aimlfw",
   "language": "python",
   "name": "python3"
  },
  "language_info": {
   "codemirror_mode": {
    "name": "ipython",
    "version": 3
   },
   "file_extension": ".py",
   "mimetype": "text/x-python",
   "name": "python",
   "nbconvert_exporter": "python",
   "pygments_lexer": "ipython3",
   "version": "3.8.19"
  }
 },
 "nbformat": 4,
 "nbformat_minor": 2
}
